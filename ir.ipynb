{
 "cells": [
  {
   "cell_type": "code",
   "execution_count": 4,
   "id": "d183bdc7-48d0-4c6a-a672-7f9e1defbea3",
   "metadata": {},
   "outputs": [],
   "source": [
    "import sys\n",
    "import re\n",
    "import copy\n",
    "import json\n",
    "import string\n",
    "\n",
    "import numpy as np\n"
   ]
  },
  {
   "cell_type": "code",
   "execution_count": 5,
   "id": "2f0f1c1c-c857-4074-9a54-3ce4179e5401",
   "metadata": {},
   "outputs": [
    {
     "name": "stderr",
     "output_type": "stream",
     "text": [
      "[nltk_data] Downloading package stopwords to\n",
      "[nltk_data]     /Users/giorgio/nltk_data...\n",
      "[nltk_data]   Package stopwords is already up-to-date!\n"
     ]
    },
    {
     "data": {
      "text/plain": [
       "True"
      ]
     },
     "execution_count": 5,
     "metadata": {},
     "output_type": "execute_result"
    }
   ],
   "source": [
    "import nltk\n",
    "nltk.download('stopwords')"
   ]
  },
  {
   "cell_type": "code",
   "execution_count": 6,
   "id": "20a79e54-7032-4a4e-bc73-cadb471573c9",
   "metadata": {},
   "outputs": [],
   "source": [
    "from ir_preprocess import preprocess_text, words_from_text"
   ]
  },
  {
   "cell_type": "code",
   "execution_count": 7,
   "id": "ac4f5ed3-906c-4e3c-bfb6-56c4c654d832",
   "metadata": {},
   "outputs": [],
   "source": [
    "def load_indices():\n",
    "    with open('inv_index.json') as f:\n",
    "        [n_docs, inv_index] = json.load(f)\n",
    "    with open('index.json') as f:\n",
    "        [n_docs, index] = json.load(f)\n",
    "    with open('titles.json') as f:\n",
    "        titles = json.load(f)\n",
    "    with open('charmap.json') as f:\n",
    "        charmap = json.load(f)\n",
    "    return index, inv_index, titles, charmap, n_docs"
   ]
  },
  {
   "cell_type": "code",
   "execution_count": 8,
   "id": "6dde65d5-8cba-4462-8fc3-52530ad2442c",
   "metadata": {},
   "outputs": [],
   "source": [
    "def query(q, index, inv_index, titles, n_docs, charmap):\n",
    "    q_text = ' '.join(q)\n",
    "    t = preprocess_text(q_text, charmap)\n",
    "    query_terms_list, query_terms_set = words_from_text(t)\n",
    "    all_scores = get_all_scores(query_terms_list, index, inv_index, n_docs)\n",
    "    sorted_list = get_sorted_result(all_scores)\n",
    "    output_result(sorted_list, titles)"
   ]
  },
  {
   "cell_type": "code",
   "execution_count": 9,
   "id": "5d0a3fee-9fb3-4f5b-8a7f-8e72898bf18b",
   "metadata": {},
   "outputs": [],
   "source": [
    "def output_result(results, titles):\n",
    "    if len(results.keys()) == 0:\n",
    "        print('No match')\n",
    "    else:\n",
    "        for k, v in results.items():\n",
    "            print('{0:s}: {1:5.3f}'. format(titles[k], v))"
   ]
  },
  {
   "cell_type": "code",
   "execution_count": 10,
   "id": "6343c90f-663b-4e9c-97e1-4e93c7ec911d",
   "metadata": {},
   "outputs": [],
   "source": [
    "def get_sorted_result(all_scores):\n",
    "    more_matches = 0\n",
    "    more_matches_term = None\n",
    "    for k, d in all_scores.items():\n",
    "        if len(all_scores[k]) > more_matches:\n",
    "            more_matches = len(all_scores[k])\n",
    "            more_matches_term = k\n",
    "    if more_matches_term is None:\n",
    "        return {}\n",
    "    result = copy.deepcopy(all_scores[more_matches_term])\n",
    "    for k, docs in all_scores.items():\n",
    "        if k is not more_matches_term:\n",
    "            for key in docs.keys():\n",
    "                if key in result.keys():\n",
    "                    result[key] += docs[key]\n",
    "                else:\n",
    "                    result[key] = docs[key]\n",
    "    sorted_result = {k: v for k, v in sorted(result.items(), key=lambda x: x[1], reverse=True)}\n",
    "    return sorted_result"
   ]
  },
  {
   "cell_type": "code",
   "execution_count": 11,
   "id": "ac93d3e7-0e99-493d-b839-3b936907e639",
   "metadata": {},
   "outputs": [],
   "source": [
    "def get_all_scores(query_terms_list, index, inv_index, n_docs):\n",
    "    scores = {}\n",
    "    for t in query_terms_list:\n",
    "        scores[t] = doc_scores(t, index, inv_index, n_docs)\n",
    "    return scores"
   ]
  },
  {
   "cell_type": "code",
   "execution_count": 12,
   "id": "7c5f3da5-baf1-489c-91de-f89eaad5748d",
   "metadata": {},
   "outputs": [],
   "source": [
    "def doc_scores(t, index, inv_index, n_docs):\n",
    "    term_scores = {}\n",
    "    if inv_index.get(t):\n",
    "        for doc in inv_index[t]['tf'].keys():\n",
    "            term_scores[doc] = score(t, doc, index, inv_index, n_docs)\n",
    "    return term_scores"
   ]
  },
  {
   "cell_type": "code",
   "execution_count": 13,
   "id": "6835042a-d2cb-4614-9e23-556790b2c6a8",
   "metadata": {},
   "outputs": [],
   "source": [
    "def score(t, key, index, inv_index, n_docs):\n",
    "     scr = tf(t,key, inv_index)*idf(t, inv_index, n_docs)/normalize(t, key, index)\n",
    "     return scr"
   ]
  },
  {
   "cell_type": "code",
   "execution_count": 14,
   "id": "f63c09e4-fc6e-4182-87ea-31cfda31b5b9",
   "metadata": {},
   "outputs": [],
   "source": [
    "def tf(t, key, inv_index):\n",
    "    val = inv_index[t]['tf'][key]\n",
    "    return 1+np.log10(val)"
   ]
  },
  {
   "cell_type": "code",
   "execution_count": 15,
   "id": "41401fc8-66d9-4887-a1d5-3d5bf0d38ed6",
   "metadata": {},
   "outputs": [],
   "source": [
    "def idf(t, inv_index, n_docs):\n",
    "    val = inv_index[t]['df']\n",
    "    return np.log10(n_docs/val)"
   ]
  },
  {
   "cell_type": "code",
   "execution_count": 16,
   "id": "92762eb7-e4f1-4eec-b5e0-aa31ab55ee73",
   "metadata": {},
   "outputs": [],
   "source": [
    "def normalize(t, key, index):\n",
    "    return index[key]['norm']"
   ]
  },
  {
   "cell_type": "code",
   "execution_count": 21,
   "id": "5d0369e7-2af6-43e4-b848-624689c9f4be",
   "metadata": {},
   "outputs": [],
   "source": [
    "def main():\n",
    "    index, inv_index, titles, charmap, n_docs = load_indices()\n",
    "\n",
    "    q = ['Legolas', 'Frodo']\n",
    "\n",
    "    query(q, index, inv_index, titles, n_docs, charmap)"
   ]
  },
  {
   "cell_type": "code",
   "execution_count": 23,
   "id": "706687ec-0d7a-4e8e-99f8-cc6ccab738c7",
   "metadata": {},
   "outputs": [
    {
     "name": "stdout",
     "output_type": "stream",
     "text": [
      "Letter 85 From an airgraph to Christopher Tolkien : 0.105\n",
      "Letter 59 From an airgraph to Christopher Tolkien  : 0.097\n",
      "Letter 84 From an airgraph to Christopher Tolkien : 0.092\n",
      "Letter 68 From an airgraph to Christopher Tolkien  : 0.091\n",
      "Letter 195 From a letter to Amy Ronald  : 0.091\n",
      "Letter 295 To W.H.Auden : 0.087\n",
      "Letter 192 From a letter to Amy Ronald  : 0.079\n",
      "Letter 67 From an airgraph to Christopher Tolkien  : 0.074\n",
      "Letter 269 From a letter to W. H. Auden : 0.074\n",
      "Letter 100 From a letter to Christopher Tolkien : 0.069\n",
      "Letter 91 To Christopher Tolkien : 0.068\n",
      "Letter 191 From a letter to Miss J. Bum (draft)  : 0.064\n",
      "Letter 93 From a letter to Christopher Tolkien  : 0.063\n",
      "Lord of the Rings: The two towers - The Forbidden Pool: 0.062\n",
      "Lord of the Rings: The return of the shadow - Strider: 0.061\n",
      "Letter 246 From a letter to Mrs Eileen Elgar (drafts) : 0.061\n",
      "Lord of the Rings: The return of the shadow - A Conspiracy Unmasked: 0.061\n",
      "Lord of the Rings: The return of the King - The Grey Havens: 0.061\n",
      "Letter 70 To Christopher Tolkien : 0.060\n",
      "Lord of the Rings: The fellowship of the Ring - The Breaking of the Fellowship: 0.060\n",
      "Letter 60 To Christopher Tolkien (airgraph) : 0.060\n",
      "Letter 180 To 'Mr Thompson' [draft] : 0.059\n",
      "Lord of the Rings: The return of the shadow - A Short Cut to Mushrooms: 0.059\n",
      "Lord of the Rings: The two towers - The Stairs of Cirith Ungol: 0.058\n",
      "Lord of the Rings: The two towers - The Taming of Smeagol: 0.057\n",
      "Letter 325 From a letter to Roger Lancelyn Green  : 0.057\n",
      "Lord of the Rings: The two towers - Journey to the Cross-roads: 0.056\n",
      "Lord of the Rings: The return of the shadow - Three is Company: 0.056\n",
      "Letter 181 To Michael Straight [drafts] : 0.055\n",
      "Lord of the Rings: The return of the King - The Field of Cormallen: 0.055\n",
      "Lord of the Rings: The return of the shadow - At the Sign of The Prancing Pony: 0.055\n",
      "Lord of the Rings: The two towers - The Black Gate is Closed: 0.055\n",
      "Lord of the Rings: The fellowship of the Ring - The Mirror of Galadriel: 0.054\n",
      "Lord of the Rings: The treason of Isengard - The Departure of Boromir: 0.054\n",
      "Letter 230 From a letter to Rhona Beare : 0.054\n",
      "Lord of the Rings: The return of the King - The Land of Shadow: 0.054\n",
      "Lord of the Rings: The fellowship of the Ring - Many Meetings: 0.054\n",
      "Lord of the Rings: The return of the shadow - Flight to the Ford: 0.054\n",
      "Lord of the Rings: The return of the shadow - The Shadow of the Past: 0.053\n",
      "Letter 168 To Richard Jeffery : 0.053\n",
      "Lord of the Rings: The two towers - The Passage of the Marshes: 0.052\n",
      "Letter 151 From a letter to Hugh Brogan  : 0.052\n",
      "Lord of the Rings: The return of the King - Mount Doom: 0.052\n",
      "Lord of the Rings: The two towers - Shelob's Lair: 0.052\n",
      "Lord of the Rings: The fellowship of the Ring - The Great River: 0.052\n",
      "Lord of the Rings: The fellowship of the Ring - The Bridge of Khazad-dum: 0.051\n",
      "Lord of the Rings: The fellowship of the Ring - Lothlorien: 0.051\n",
      "Lord of the Rings: The return of the shadow - In the House of Tom Bombadil: 0.051\n",
      "Lord of the Rings: The return of the King - Homeward Bound: 0.051\n",
      "Lord of the Rings: The return of the King - The Tower of Cirith Ungol: 0.050\n",
      "Letter 240 To Mrs Pauline Gasch (Pauline Baynes) : 0.050\n",
      "Lord of the Rings: The return of the King - The Scouring of the Shire: 0.050\n",
      "Lord of the Rings: The two towers - The Window on the West: 0.050\n",
      "Lord of the Rings: The return of the shadow - Fog on the Barrow-Downs: 0.049\n",
      "Lord of the Rings: The return of the shadow - The Old Forest: 0.049\n",
      "Lord of the Rings: The two towers - The Choices of Master Samwise: 0.049\n",
      "Lord of the Rings: The fellowship of the Ring - The Ring Goes South: 0.048\n",
      "Letter 71 To Christopher Tolkien (airgraph) : 0.048\n",
      "Lord of the Rings: The return of the shadow - A Long-expected Party: 0.048\n",
      "Lord of the Rings: The return of the King - Many Partings: 0.048\n",
      "Lord of the Rings: The return of the shadow - A Knife in the Dark: 0.046\n",
      "Lord of the Rings: The two towers - Of Herbs and Stewed Rabbit: 0.046\n",
      "Lord of the Rings: The fellowship of the Ring - Farewell to Lorien: 0.045\n",
      "Letter 154 To Naomi Mitchison : 0.045\n",
      "Lord of the Rings: The fellowship of the Ring - A Journey in the Dark: 0.044\n",
      "Letter 64 To Christopher Tolkien : 0.044\n",
      "Letter 187 From a letter to H. Cotton Minchin (draft) : 0.044\n",
      "Lord of the Rings: The fellowship of the Ring - The Council of Elrond: 0.043\n",
      "Letter 69 To Christopher Tolkien : 0.043\n",
      "Letter 72 To Christopher Tolkien : 0.040\n",
      "Letter 58 To Christopher Tolkien : 0.039\n",
      "Letter 66 From a letter to Christopher Tolkien  : 0.039\n",
      "Letter 199 From a letter to Caroline Everett  : 0.037\n",
      "Letter 210 From a letter to Forrest J. Ackerman [Not dated; June 1958] : 0.035\n",
      "Lord of the Rings: The return of the King - The Steward and the King: 0.034\n",
      "Letter 153 To Peter Hastings (draft) : 0.033\n",
      "Lord of the Rings: Foreword - Foreword: 0.033\n",
      "Lord of the Rings: The treason of Isengard - The Uruk-Hai: 0.033\n",
      "Letter 183 Notes on W. H. Auden's review of The Return of the King : 0.032\n",
      "Letter 241 From a letter to Jane Neave : 0.032\n",
      "Letter 214 To A. C. Nunn (draft) : 0.031\n",
      "Lord of the Rings: The war of the Ring - The Black Gate Opens: 0.031\n",
      "Letter 163 To W. H. Auden : 0.031\n",
      "Lord of the Rings: The war of the Ring - The Siege of Gondor: 0.031\n",
      "Lord of the Rings: The war of the Ring - Minas Tirith: 0.028\n",
      "Letter 89 To Christopher Tolkien : 0.028\n",
      "Letter 96 To Christopher Tolkien : 0.027\n",
      "Lord of the Rings: The war of the Ring - The Muster of Rohan: 0.027\n",
      "Letter 156 To Robert Murray, SJ. (draft) : 0.024\n",
      "Lord of the Rings: The treason of Isengard - The Riders of Rohan: 0.024\n",
      "Letter 211 To Rhona Beare : 0.023\n",
      "Silmarillion: On the Ring of Power and the Third Age - Of the Rings of power and the third age: 0.020\n",
      "Lord of the Rings: The treason of Isengard - Flotsam and Jetsam: 0.020\n",
      "Lord of the Rings: The treason of Isengard - The White Rider: 0.020\n",
      "Lord of the Rings: The treason of Isengard - Treebeard: 0.017\n"
     ]
    }
   ],
   "source": [
    "index, inv_index, titles, charmap, n_docs = load_indices()\n",
    "q = ['frodo']\n",
    "query(q, index, inv_index, titles, n_docs, charmap)"
   ]
  },
  {
   "cell_type": "code",
   "execution_count": null,
   "id": "e87a8575-5772-432e-abfe-7c156c9311a3",
   "metadata": {},
   "outputs": [],
   "source": []
  }
 ],
 "metadata": {
  "kernelspec": {
   "display_name": "Python 3.7",
   "language": "python",
   "name": "python3.7"
  },
  "language_info": {
   "codemirror_mode": {
    "name": "ipython",
    "version": 3
   },
   "file_extension": ".py",
   "mimetype": "text/x-python",
   "name": "python",
   "nbconvert_exporter": "python",
   "pygments_lexer": "ipython3",
   "version": "3.7.7"
  }
 },
 "nbformat": 4,
 "nbformat_minor": 5
}
